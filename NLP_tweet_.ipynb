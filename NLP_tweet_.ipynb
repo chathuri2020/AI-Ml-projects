{
  "nbformat": 4,
  "nbformat_minor": 0,
  "metadata": {
    "colab": {
      "provenance": [],
      "authorship_tag": "ABX9TyMOWWzcJGVHuM8JHW6nm39p",
      "include_colab_link": true
    },
    "kernelspec": {
      "name": "python3",
      "display_name": "Python 3"
    },
    "language_info": {
      "name": "python"
    }
  },
  "cells": [
    {
      "cell_type": "markdown",
      "metadata": {
        "id": "view-in-github",
        "colab_type": "text"
      },
      "source": [
        "<a href=\"https://colab.research.google.com/github/chathuri2020/AI-Ml-projects/blob/main/NLP_tweet_.ipynb\" target=\"_parent\"><img src=\"https://colab.research.google.com/assets/colab-badge.svg\" alt=\"Open In Colab\"/></a>"
      ]
    },
    {
      "cell_type": "markdown",
      "source": [
        "Import the libraries"
      ],
      "metadata": {
        "id": "Be1xigACY4Ak"
      }
    },
    {
      "cell_type": "code",
      "source": [
        "import pandas as pd"
      ],
      "metadata": {
        "id": "POkbikiQY6nL"
      },
      "execution_count": null,
      "outputs": []
    },
    {
      "cell_type": "code",
      "source": [
        "data = pd.read_csv('/content/Tweets.csv')\n",
        "\n",
        "# Display the first few rows to understand its structure\n",
        "print(data.head())"
      ],
      "metadata": {
        "colab": {
          "base_uri": "https://localhost:8080/"
        },
        "id": "5ZTEXSf0ZIWE",
        "outputId": "794d0cce-947e-47a8-f6bd-32439d1180da"
      },
      "execution_count": null,
      "outputs": [
        {
          "output_type": "stream",
          "name": "stdout",
          "text": [
            "             tweet_id airline_sentiment  airline_sentiment_confidence  \\\n",
            "0  570306133677760513           neutral                        1.0000   \n",
            "1  570301130888122368          positive                        0.3486   \n",
            "2  570301083672813571           neutral                        0.6837   \n",
            "3  570301031407624196          negative                        1.0000   \n",
            "4  570300817074462722          negative                        1.0000   \n",
            "\n",
            "  negativereason  negativereason_confidence         airline  \\\n",
            "0            NaN                        NaN  Virgin America   \n",
            "1            NaN                     0.0000  Virgin America   \n",
            "2            NaN                        NaN  Virgin America   \n",
            "3     Bad Flight                     0.7033  Virgin America   \n",
            "4     Can't Tell                     1.0000  Virgin America   \n",
            "\n",
            "  airline_sentiment_gold        name negativereason_gold  retweet_count  \\\n",
            "0                    NaN     cairdin                 NaN              0   \n",
            "1                    NaN    jnardino                 NaN              0   \n",
            "2                    NaN  yvonnalynn                 NaN              0   \n",
            "3                    NaN    jnardino                 NaN              0   \n",
            "4                    NaN    jnardino                 NaN              0   \n",
            "\n",
            "                                                text tweet_coord  \\\n",
            "0                @VirginAmerica What @dhepburn said.         NaN   \n",
            "1  @VirginAmerica plus you've added commercials t...         NaN   \n",
            "2  @VirginAmerica I didn't today... Must mean I n...         NaN   \n",
            "3  @VirginAmerica it's really aggressive to blast...         NaN   \n",
            "4  @VirginAmerica and it's a really big bad thing...         NaN   \n",
            "\n",
            "               tweet_created tweet_location               user_timezone  \n",
            "0  2015-02-24 11:35:52 -0800            NaN  Eastern Time (US & Canada)  \n",
            "1  2015-02-24 11:15:59 -0800            NaN  Pacific Time (US & Canada)  \n",
            "2  2015-02-24 11:15:48 -0800      Lets Play  Central Time (US & Canada)  \n",
            "3  2015-02-24 11:15:36 -0800            NaN  Pacific Time (US & Canada)  \n",
            "4  2015-02-24 11:14:45 -0800            NaN  Pacific Time (US & Canada)  \n"
          ]
        }
      ]
    },
    {
      "cell_type": "code",
      "source": [],
      "metadata": {
        "id": "kGXY5vMeWs1L"
      },
      "execution_count": null,
      "outputs": []
    },
    {
      "cell_type": "code",
      "source": [],
      "metadata": {
        "id": "xVut23IbXtqT"
      },
      "execution_count": null,
      "outputs": []
    },
    {
      "cell_type": "code",
      "source": [
        "# Select only the \"airline_sentiment\" and \"text\" columns\n",
        "df = data[[\"airline_sentiment\", \"text\"]]\n",
        "\n",
        "# Display the first few rows of the dataframe after selecting relevant columns\n",
        "print(df.head())"
      ],
      "metadata": {
        "colab": {
          "base_uri": "https://localhost:8080/"
        },
        "id": "wgJFvMf_aecl",
        "outputId": "fa177439-5a51-4678-f127-07c1a44b7bae"
      },
      "execution_count": null,
      "outputs": [
        {
          "output_type": "stream",
          "name": "stdout",
          "text": [
            "  airline_sentiment                                               text\n",
            "0           neutral                @VirginAmerica What @dhepburn said.\n",
            "1          positive  @VirginAmerica plus you've added commercials t...\n",
            "2           neutral  @VirginAmerica I didn't today... Must mean I n...\n",
            "3          negative  @VirginAmerica it's really aggressive to blast...\n",
            "4          negative  @VirginAmerica and it's a really big bad thing...\n"
          ]
        }
      ]
    },
    {
      "cell_type": "code",
      "source": [
        "import nltk\n",
        "import string\n",
        "import re\n",
        "from nltk.stem.porter import PorterStemmer\n",
        "from nltk.corpus import stopwords\n",
        "\n",
        "# Download stopwords if not already downloaded\n",
        "nltk.download('stopwords')\n",
        "nltk.download('punkt')\n",
        "\n",
        "ps = PorterStemmer()\n",
        "\n",
        "def clean_text(text):\n",
        "    text = text.lower()\n",
        "    text = re.sub(r'http.?://[^\\s]+[\\s]?', '', text)  # Remove URLs\n",
        "    text = nltk.word_tokenize(text)  # Tokenize the text\n",
        "    y = []\n",
        "    for i in text:\n",
        "        if i not in stopwords.words('english'):\n",
        "            y.append(i)\n",
        "    text = y[:]\n",
        "    y.clear()\n",
        "    for i in text:\n",
        "        y.append(ps.stem(i))  # Perform stemming\n",
        "    return \" \".join(y)\n",
        "\n",
        "# Apply clean_text function to 'text' column and create a new column 'text_cleaned'\n",
        "df['text_cleaned'] = df['text'].apply(clean_text)\n",
        "\n",
        "# Display the cleaned text\n",
        "print(df.head())\n"
      ],
      "metadata": {
        "colab": {
          "base_uri": "https://localhost:8080/"
        },
        "id": "DN0DunsJcFTW",
        "outputId": "1a31cf83-0f57-44ce-852f-18d376ea6078"
      },
      "execution_count": null,
      "outputs": [
        {
          "output_type": "stream",
          "name": "stderr",
          "text": [
            "[nltk_data] Downloading package stopwords to /root/nltk_data...\n",
            "[nltk_data]   Package stopwords is already up-to-date!\n",
            "[nltk_data] Downloading package punkt to /root/nltk_data...\n",
            "[nltk_data]   Package punkt is already up-to-date!\n"
          ]
        },
        {
          "output_type": "stream",
          "name": "stdout",
          "text": [
            "  airline_sentiment                                               text  \\\n",
            "0           neutral                @VirginAmerica What @dhepburn said.   \n",
            "1          positive  @VirginAmerica plus you've added commercials t...   \n",
            "2           neutral  @VirginAmerica I didn't today... Must mean I n...   \n",
            "3          negative  @VirginAmerica it's really aggressive to blast...   \n",
            "4          negative  @VirginAmerica and it's a really big bad thing...   \n",
            "\n",
            "                                        text_cleaned  \n",
            "0                  @ virginamerica @ dhepburn said .  \n",
            "1  @ virginamerica plu 've ad commerci experi ......  \n",
            "2  @ virginamerica n't today ... must mean need t...  \n",
            "3  @ virginamerica 's realli aggress blast obnoxi...  \n",
            "4            @ virginamerica 's realli big bad thing  \n"
          ]
        },
        {
          "output_type": "stream",
          "name": "stderr",
          "text": [
            "<ipython-input-11-dac57c94a261>:28: SettingWithCopyWarning: \n",
            "A value is trying to be set on a copy of a slice from a DataFrame.\n",
            "Try using .loc[row_indexer,col_indexer] = value instead\n",
            "\n",
            "See the caveats in the documentation: https://pandas.pydata.org/pandas-docs/stable/user_guide/indexing.html#returning-a-view-versus-a-copy\n",
            "  df['text_cleaned'] = df['text'].apply(clean_text)\n"
          ]
        }
      ]
    },
    {
      "cell_type": "code",
      "source": [],
      "metadata": {
        "id": "lq5q_ozhip0b"
      },
      "execution_count": null,
      "outputs": []
    },
    {
      "cell_type": "code",
      "source": [
        "from sklearn.feature_extraction.text import TfidfVectorizer\n",
        "\n",
        "# Initialize TfidfVectorizer\n",
        "tfidf = TfidfVectorizer(max_features=3000)\n",
        "\n",
        "# Fit and transform 'text_cleaned' to get X (features)\n",
        "X = tfidf.fit_transform(df['text_cleaned']).toarray()\n",
        "\n",
        "# Convert 'airline_sentiment' to Y (labels)\n",
        "Y = df['airline_sentiment'].values\n"
      ],
      "metadata": {
        "id": "pHfGVxbcahZf"
      },
      "execution_count": null,
      "outputs": []
    },
    {
      "cell_type": "code",
      "source": [
        "from sklearn.model_selection import train_test_split\n",
        "from sklearn.naive_bayes import MultinomialNB\n",
        "from sklearn.ensemble import RandomForestClassifier\n",
        "from sklearn.metrics import accuracy_score\n",
        "\n",
        "# Split the dataset into training and testing sets\n",
        "X_train, X_test, y_train, y_test = train_test_split(X, Y, test_size=0.2, random_state=2)\n",
        "\n",
        "# Train a Multinomial Naive Bayes classifier\n",
        "nb_classifier = MultinomialNB()\n",
        "nb_classifier.fit(X_train, y_train)\n",
        "y_pred_nb = nb_classifier.predict(X_test)\n",
        "\n",
        "# Calculate accuracy of Multinomial Naive Bayes classifier\n",
        "accuracy_nb = accuracy_score(y_test, y_pred_nb)\n",
        "print(f\"Accuracy of Multinomial Naive Bayes Classifier: {accuracy_nb}\")\n",
        "\n",
        "# Train a Random Forest classifier\n",
        "rf_classifier = RandomForestClassifier()\n",
        "rf_classifier.fit(X_train, y_train)\n",
        "y_pred_rf = rf_classifier.predict(X_test)\n",
        "\n",
        "# Calculate accuracy of Random Forest classifier\n",
        "accuracy_rf = accuracy_score(y_test, y_pred_rf)\n",
        "print(f\"Accuracy of Random Forest Classifier: {accuracy_rf}\")\n"
      ],
      "metadata": {
        "colab": {
          "base_uri": "https://localhost:8080/"
        },
        "id": "o6i8BnqYXvNb",
        "outputId": "62e44114-1d12-4951-9c7a-eca3969935a9"
      },
      "execution_count": null,
      "outputs": [
        {
          "output_type": "stream",
          "name": "stdout",
          "text": [
            "Accuracy of Multinomial Naive Bayes Classifier: 0.7219945355191257\n",
            "Accuracy of Random Forest Classifier: 0.7537568306010929\n"
          ]
        }
      ]
    },
    {
      "cell_type": "code",
      "source": [
        "# Group the dataframe by 'airline_sentiment' and describe the counts\n",
        "sentiment_counts = df.groupby('airline_sentiment').describe()\n",
        "\n",
        "# Display the count for each sentiment class\n",
        "print(sentiment_counts)\n"
      ],
      "metadata": {
        "colab": {
          "base_uri": "https://localhost:8080/"
        },
        "id": "Rn2QuDEFiqhH",
        "outputId": "88063107-d7ff-42e4-f8c7-d4d4d6dd0c77"
      },
      "execution_count": null,
      "outputs": [
        {
          "output_type": "stream",
          "name": "stdout",
          "text": [
            "                   text         \\\n",
            "                  count unique   \n",
            "airline_sentiment                \n",
            "negative           9178   9087   \n",
            "neutral            3099   3067   \n",
            "positive           2363   2298   \n",
            "\n",
            "                                                                           \\\n",
            "                                                                 top freq   \n",
            "airline_sentiment                                                           \n",
            "negative           @AmericanAir that's 16+ extra hours of travel ...    2   \n",
            "neutral                                           @SouthwestAir sent    5   \n",
            "positive                                            @JetBlue thanks!    5   \n",
            "\n",
            "                  text_cleaned         \\\n",
            "                         count unique   \n",
            "airline_sentiment                       \n",
            "negative                  9178   9083   \n",
            "neutral                   3099   3025   \n",
            "positive                  2363   2262   \n",
            "\n",
            "                                                                           \n",
            "                                                                 top freq  \n",
            "airline_sentiment                                                          \n",
            "negative           @ americanair fyi ... call still get drop . ho...    2  \n",
            "neutral            @ jetblu 's ceo battl appeas passeng wall stre...    8  \n",
            "positive                                            @ jetblu thank !   12  \n"
          ]
        }
      ]
    },
    {
      "cell_type": "code",
      "source": [
        "# Group the dataframe by 'airline_sentiment' and describe the counts\n",
        "sentiment_counts = df.groupby('airline_sentiment').describe()\n",
        "\n",
        "# Display the count for each sentiment class\n",
        "print(sentiment_counts)\n",
        "\n",
        "# Extract the count for the 'negative' sentiment class specifically\n",
        "count_negative = sentiment_counts.loc['negative', ('text', 'count')]\n",
        "print(\"Number of instances with 'negative' sentiment:\", count_negative)\n"
      ],
      "metadata": {
        "colab": {
          "base_uri": "https://localhost:8080/"
        },
        "id": "_d7mAGI4jERx",
        "outputId": "0219e163-7a91-4d7e-f0c8-3481baadb158"
      },
      "execution_count": null,
      "outputs": [
        {
          "output_type": "stream",
          "name": "stdout",
          "text": [
            "                   text         \\\n",
            "                  count unique   \n",
            "airline_sentiment                \n",
            "negative           9178   9087   \n",
            "neutral            3099   3067   \n",
            "positive           2363   2298   \n",
            "\n",
            "                                                                           \\\n",
            "                                                                 top freq   \n",
            "airline_sentiment                                                           \n",
            "negative           @AmericanAir that's 16+ extra hours of travel ...    2   \n",
            "neutral                                           @SouthwestAir sent    5   \n",
            "positive                                            @JetBlue thanks!    5   \n",
            "\n",
            "                  text_cleaned         \\\n",
            "                         count unique   \n",
            "airline_sentiment                       \n",
            "negative                  9178   9083   \n",
            "neutral                   3099   3025   \n",
            "positive                  2363   2262   \n",
            "\n",
            "                                                                           \n",
            "                                                                 top freq  \n",
            "airline_sentiment                                                          \n",
            "negative           @ americanair fyi ... call still get drop . ho...    2  \n",
            "neutral            @ jetblu 's ceo battl appeas passeng wall stre...    8  \n",
            "positive                                            @ jetblu thank !   12  \n",
            "Number of instances with 'negative' sentiment: 9178\n"
          ]
        }
      ]
    },
    {
      "cell_type": "code",
      "source": [
        "# Filter the dataset to include only rows where 'airline_sentiment' is 'neutral'\n",
        "neutral_tweets = df[df['airline_sentiment'] == 'neutral']\n",
        "\n",
        "# Count the number of unique tweets in the filtered dataset\n",
        "unique_neutral_tweets = neutral_tweets['text'].nunique()\n",
        "\n",
        "print(\"Number of unique tweets with 'neutral' sentiment:\", unique_neutral_tweets)\n"
      ],
      "metadata": {
        "colab": {
          "base_uri": "https://localhost:8080/"
        },
        "id": "MKYkZD6BkVjz",
        "outputId": "eba17751-953b-4456-f5f8-e921cfc062cc"
      },
      "execution_count": null,
      "outputs": [
        {
          "output_type": "stream",
          "name": "stdout",
          "text": [
            "Number of unique tweets with 'neutral' sentiment: 3067\n"
          ]
        }
      ]
    },
    {
      "cell_type": "code",
      "source": [
        "print(data.shape)\n",
        "print(X.shape)"
      ],
      "metadata": {
        "colab": {
          "base_uri": "https://localhost:8080/"
        },
        "id": "DUItBNH7kveY",
        "outputId": "1aa88027-ff07-48c4-91fd-40f173f7f036"
      },
      "execution_count": null,
      "outputs": [
        {
          "output_type": "stream",
          "name": "stdout",
          "text": [
            "(14640, 15)\n",
            "(14640, 3000)\n"
          ]
        }
      ]
    },
    {
      "cell_type": "code",
      "source": [
        "text = \"@VirginAmerica What @dhepburn said.\"\n",
        "cleaned_text = clean_text(text)\n",
        "\n",
        "print(\"Cleaned text:\", cleaned_text)"
      ],
      "metadata": {
        "colab": {
          "base_uri": "https://localhost:8080/"
        },
        "id": "ld-CugyIl2tY",
        "outputId": "a79670b1-78b6-4ce3-e343-73cf027c2fd4"
      },
      "execution_count": null,
      "outputs": [
        {
          "output_type": "stream",
          "name": "stdout",
          "text": [
            "Cleaned text: @ virginamerica @ dhepburn said .\n"
          ]
        }
      ]
    },
    {
      "cell_type": "code",
      "source": [
        "# Filter the dataset to include only rows where 'airline_sentiment' is 'neutral'\n",
        "neutral_tweets = df[df['airline_sentiment'] == 'neutral']\n",
        "\n",
        "# Count the number of unique tweets in the filtered dataset\n",
        "unique_neutral_tweets = neutral_tweets['text'].nunique()\n",
        "\n",
        "print(\"Number of unique tweets with 'neutral' sentiment:\", unique_neutral_tweets)\n"
      ],
      "metadata": {
        "colab": {
          "base_uri": "https://localhost:8080/"
        },
        "id": "4euGGaTqmT1o",
        "outputId": "7cb4a4da-7bc2-4bd8-af62-3cc326d2e966"
      },
      "execution_count": null,
      "outputs": [
        {
          "output_type": "stream",
          "name": "stdout",
          "text": [
            "Number of unique tweets with 'neutral' sentiment: 3067\n"
          ]
        }
      ]
    }
  ]
}